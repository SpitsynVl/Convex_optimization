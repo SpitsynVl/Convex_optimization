{
 "cells": [
  {
   "cell_type": "markdown",
   "id": "340d14a8",
   "metadata": {},
   "source": [
    "# Домашнее задание 1"
   ]
  },
  {
   "cell_type": "markdown",
   "id": "4ee400d7",
   "metadata": {},
   "source": [
    "$\\textbf{Примечание:}$ запускайте ячейки только \"сверху вниз\" потому что в разных задачах одни и те же переменные (которые мы получаем из файлов с данными) имеют разные значения"
   ]
  },
  {
   "cell_type": "code",
   "execution_count": 1,
   "id": "420e1e82",
   "metadata": {},
   "outputs": [],
   "source": [
    "import cvxpy as cp\n",
    "import numpy as np\n",
    "import math"
   ]
  },
  {
   "cell_type": "markdown",
   "id": "cc93d49a",
   "metadata": {},
   "source": [
    "![7.15](opt_7_15.jpg)"
   ]
  },
  {
   "cell_type": "markdown",
   "id": "5326730d",
   "metadata": {},
   "source": [
    "## Решение"
   ]
  },
  {
   "cell_type": "markdown",
   "id": "596acaa8",
   "metadata": {},
   "source": [
    "$\\textbf{var}(a_i^TZ) = a_i^T\\textbf{var}(Z)a_i = a_i^T\\Sigma a_i$ - линейная по $\\Sigma$ функция.\\\n",
    "Нам нужно решить следующую задачу:\n",
    "$$max_{i\\neq j}|\\rho_{ij}| \\rightarrow min $$\n",
    "$$ a_i^T\\Sigma a_i = \\sigma_i^2, \\; i=1,...,m$$\n",
    "$$ \\Sigma \\succeq 0 $$\n",
    "При этом функция $|\\rho_{ij}| = \\frac{|\\Sigma_{ij}|}{\\sqrt{\\Sigma_{ii}\\Sigma_{jj}}}$ является квазивыпуклой (числитель - неотрицательная выпуклая функция, знаменатель - положительная вогнутая функция). Значит, и максимум от этой функции будет квазивыпуклым. Таким образом, мы можем найти минимум $\\rho^{max}$, решая следуюущую задачу:\n",
    "$$t \\rightarrow min $$\n",
    "$$ |\\Sigma_{ij}| \\leq t\\sqrt{\\Sigma_{ii}\\Sigma_{jj}} $$\n",
    "$$ a_i^T\\Sigma a_i = \\sigma_i^2, \\; i=1,...,m $$\n",
    "$$ \\Sigma \\succeq 0 $$\n",
    "Оптимальное значение для $t$ и будет решением нашей задачи"
   ]
  },
  {
   "cell_type": "code",
   "execution_count": 2,
   "id": "cccd1bdc",
   "metadata": {},
   "outputs": [],
   "source": [
    "from correlation_bounds_data import *"
   ]
  },
  {
   "cell_type": "code",
   "execution_count": 4,
   "id": "b9c90491",
   "metadata": {},
   "outputs": [
    {
     "name": "stdout",
     "output_type": "stream",
     "text": [
      "rho_max = 0.6201171875\n",
      "Sigma = [[ 4.29250754  0.38055536  1.51464781  1.56393608 -0.0283164 ]\n",
      " [ 0.38055536  2.91431241 -1.24748749  1.29813421  0.0105029 ]\n",
      " [ 1.51464781 -1.24748749  1.39150015  0.12180977  0.39674711]\n",
      " [ 1.56393608  1.29813421  0.12180977  1.50616447  0.42117708]\n",
      " [-0.0283164   0.0105029   0.39674711  0.42117708  0.32092653]]\n"
     ]
    }
   ],
   "source": [
    "Sigma = cp.Variable((n,n), symmetric=True)\n",
    "t = cp.Parameter(nonneg=True)\n",
    "rho_cons = []\n",
    "\n",
    "for i in range(n - 1):\n",
    "    for j in range(i + 1, n):\n",
    "        Sij = cp.vstack([Sigma[i, i], Sigma[j, j]])\n",
    "        rho_cons += [cp.abs(Sigma[i, j]) <= t * cp.geo_mean(Sij)]\n",
    "\n",
    "var_cons = [A[:, i].T @ Sigma @ A[:, i] == sigma[i]**2 for i in range(m)]\n",
    "problem = cp.Problem(cp.Minimize(0), rho_cons + var_cons)\n",
    "lb, ub = 0.0, 1.0\n",
    "Sigma_opt = None\n",
    "\n",
    "while ub - lb > 1e-3:\n",
    "    t.value = (lb + ub) / 2\n",
    "    problem.solve()\n",
    "    if problem.status == cp.OPTIMAL:\n",
    "        ub = t.value\n",
    "        Sigma_opt = Sigma.value\n",
    "    else:\n",
    "        lb = t.value\n",
    "    \n",
    "print('rho_max =', t.value)\n",
    "print('Sigma =', Sigma_opt)"
   ]
  },
  {
   "cell_type": "markdown",
   "id": "d18bad94",
   "metadata": {},
   "source": [
    "\\\n",
    "\\\n",
    "\\\n",
    "\\\n",
    "\\\n",
    "\\\n",
    "\\\n",
    "\\\n",
    "\\\n",
    "\\\n",
    "\\\n",
    "\\"
   ]
  },
  {
   "cell_type": "markdown",
   "id": "c5744830",
   "metadata": {},
   "source": [
    "\n",
    "\n",
    "\n",
    "\n",
    "\n",
    "\n",
    "\n",
    "\n",
    "\n",
    "\n",
    "\n",
    "\n",
    "\n",
    "\n"
   ]
  },
  {
   "cell_type": "markdown",
   "id": "fe1b99f8",
   "metadata": {},
   "source": [
    "![7.19](opt_7_19.jpg)"
   ]
  },
  {
   "cell_type": "markdown",
   "id": "5953796d",
   "metadata": {},
   "source": [
    "## Решение\n",
    "Единственной проблемой, которая возникает при подстановке данных ограничений и самой функции, которую надо минимизировать, в солвер, является то, что солвер не хочет работать с органичением $1^Tx = 1$. Но мы, очевидно, можем решить задачу и не нормализуя $x$, и нормализовать его только в конце."
   ]
  },
  {
   "cell_type": "code",
   "execution_count": 5,
   "id": "b3a57f53",
   "metadata": {},
   "outputs": [],
   "source": [
    "from  rank_one_nmf_data import *"
   ]
  },
  {
   "cell_type": "code",
   "execution_count": 27,
   "id": "c7062f63",
   "metadata": {},
   "outputs": [
    {
     "name": "stdout",
     "output_type": "stream",
     "text": [
      "Optimal average relative deviation: 0.18391496985743203\n",
      "Optimal value of matrix A:\n",
      " [[0.27282048 0.37342561 0.18510414 0.45223269 0.5848406  0.36126553\n",
      "  0.37028095 0.34383474 0.5085739  0.06480448 0.58995068 0.22982494\n",
      "  0.19755616 0.1863894  0.33082705 0.14550383 0.39270393 0.47141881\n",
      "  0.46486046 0.64083187]\n",
      " [0.10841642 0.33346782 0.17520291 0.43914664 0.45853889 0.06985675\n",
      "  0.06059047 0.26549556 0.39574758 0.14553939 0.46197066 0.18019214\n",
      "  0.1981993  0.12177391 0.54777822 0.11408094 0.35017423 0.43545713\n",
      "  0.26369495 0.57224625]\n",
      " [0.24832293 0.30963204 0.12311379 0.39262155 0.45630691 0.17322236\n",
      "  0.17204251 0.2643305  0.39238157 0.09490156 0.46029395 0.17931504\n",
      "  0.17351015 0.13222095 0.3315928  0.13267111 0.27389309 0.39812276\n",
      "  0.30976426 0.53134914]\n",
      " [0.23350656 0.4674108  0.2237259  0.60717871 0.68882149 0.15775697\n",
      "  0.23658541 0.39928063 0.56825808 0.18324137 0.66483881 0.19081269\n",
      "  0.27265226 0.18126272 0.50055839 0.24847976 0.4625242  0.60693718\n",
      "  0.40546329 0.80210204]\n",
      " [0.87205422 0.48401056 0.23272828 0.63268509 0.79777344 0.62587872\n",
      "  0.25255257 0.47156805 0.695755   0.15292794 0.82223997 0.28895498\n",
      "  0.24247517 0.21419318 0.27141805 0.04237885 0.49373996 0.60199158\n",
      "  0.69695834 0.83061458]\n",
      " [0.13970966 0.35610914 0.18068573 0.4251399  0.49409991 0.09216263\n",
      "  0.0834705  0.2864088  0.42643895 0.10276165 0.49841717 0.12379347\n",
      "  0.21014277 0.13314599 0.35905653 0.20233528 0.36564305 0.46401689\n",
      "  0.33856737 0.61110081]\n",
      " [0.23276138 0.48412563 0.23416607 0.62982934 0.67965121 0.27084215\n",
      "  0.14705987 0.39453837 0.58703497 0.14838351 0.71969344 0.19249711\n",
      "  0.28298008 0.20782818 0.74004857 0.26046995 0.48222587 0.62902915\n",
      "  0.4159665  0.83079193]\n",
      " [0.29958313 0.28030258 0.09141336 0.34776544 0.42400006 0.21169385\n",
      "  0.21438578 0.24831336 0.36794721 0.08818247 0.42770485 0.2045873\n",
      "  0.15341669 0.1293959  0.30771365 0.09460226 0.2847041  0.35726675\n",
      "  0.31330073 0.48102098]\n",
      " [0.51025456 0.6137342  0.28726936 0.78095813 0.9076338  0.34455423\n",
      "  0.31173958 0.52611683 0.78082774 0.1887674  0.91556437 0.36562361\n",
      "  0.34512666 0.26442078 0.78050204 0.25681966 0.53663166 0.78837656\n",
      "  0.62192926 1.0532094 ]\n",
      " [0.22874433 0.33273586 0.08696125 0.40456929 0.49035528 0.31031045\n",
      "  0.31754959 0.28423818 0.45046405 0.06176129 0.53055006 0.28830022\n",
      "  0.17702612 0.16402996 0.35633535 0.08487132 0.23559942 0.42071009\n",
      "  0.40726116 0.57099695]]\n",
      "Optimal value of x: [0.09823695 0.07702178 0.07664687 0.11570285 0.12351164 0.08299504\n",
      " 0.11984135 0.07122022 0.15245724 0.08236605]\n",
      "Optimal values of y: [2.77716763 4.039721   1.88426186 5.12247336 5.95336651 2.26000577\n",
      " 2.04476733 3.45091431 5.13812553 1.23816617 6.00538479 2.33949591\n",
      " 2.26376044 1.73419424 4.32624064 1.48115174 3.9975176  5.18438343\n",
      " 4.07936859 6.93243085]\n"
     ]
    }
   ],
   "source": [
    "x = cp.Variable((m,), pos=True)\n",
    "y = cp.Variable((n,), pos=True)\n",
    "A_var = cp.Variable((m, n), pos=True)\n",
    "\n",
    "A_cons = [A_var[i][j] == A[i][j] for i in range(m) for j in range(n) if A[i][j]]\n",
    "\n",
    "res = cp.vstack([x[i] * y for i in range(m)])\n",
    "rel_dev = cp.maximum(cp.multiply(A_var, res ** -1), cp.multiply(A_var ** -1, res))\n",
    "obj = cp.Minimize(cp.sum(rel_dev))\n",
    "problem = cp.Problem(obj, A_cons)\n",
    "\n",
    "opt_rel_dev = (problem.solve(gp=True) - m*n) / (m*n)\n",
    "alpha = np.sum(x.value)\n",
    "x.value /= alpha\n",
    "y.value *= alpha\n",
    "\n",
    "print('Optimal average relative deviation:', opt_rel_dev)\n",
    "print('Optimal value of matrix A:\\n', A_var.value)\n",
    "print('Optimal value of x:', x.value)\n",
    "print('Optimal values of y:', y.value)            "
   ]
  },
  {
   "cell_type": "code",
   "execution_count": null,
   "id": "979fda9c",
   "metadata": {},
   "outputs": [],
   "source": []
  }
 ],
 "metadata": {
  "kernelspec": {
   "display_name": "Python 3",
   "language": "python",
   "name": "python3"
  },
  "language_info": {
   "codemirror_mode": {
    "name": "ipython",
    "version": 3
   },
   "file_extension": ".py",
   "mimetype": "text/x-python",
   "name": "python",
   "nbconvert_exporter": "python",
   "pygments_lexer": "ipython3",
   "version": "3.8.8"
  }
 },
 "nbformat": 4,
 "nbformat_minor": 5
}
